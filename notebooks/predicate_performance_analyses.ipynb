{
 "cells": [
  {
   "cell_type": "markdown",
   "metadata": {},
   "source": [
    "# Predicate-based classifiers"
   ]
  },
  {
   "cell_type": "code",
   "execution_count": 3,
   "metadata": {},
   "outputs": [],
   "source": [
    "import pandas as pd\n",
    "import numpy as np\n",
    "\n",
    "from sklearn.feature_extraction.text import CountVectorizer, TfidfTransformer\n",
    "from sklearn.pipeline import Pipeline\n",
    "from sklearn.model_selection import GridSearchCV\n",
    "from sklearn.svm import LinearSVC, SVC"
   ]
  },
  {
   "cell_type": "markdown",
   "metadata": {},
   "source": [
    "# OHSUMED-BASED SCREENING DATASET\n",
    "Predicate C04: Neoplasms <br>\n",
    "Predicate C12: Urologic and Male Genital Diseases <br>\n",
    "Predicate C10: Nervous System Diseases <br>\n",
    "Predicate C14: Cardiovascular Diseases <br>\n",
    "Predicate C23: Pathological Conditions, Signs and Symptoms"
   ]
  },
  {
   "cell_type": "code",
   "execution_count": 4,
   "metadata": {},
   "outputs": [],
   "source": [
    "df1 = pd.read_csv('../data/ohsumed_data/ohsumed_C10_C23_1grams.csv')\n",
    "df2 = pd.read_csv('../data/ohsumed_data/ohsumed_C14_C23_1grams.csv')\n",
    "df3 = pd.read_csv('../data/ohsumed_data/ohsumed_C04_C12_1grams.csv')"
   ]
  },
  {
   "cell_type": "markdown",
   "metadata": {},
   "source": [
    "## Linear SVM"
   ]
  },
  {
   "cell_type": "code",
   "execution_count": 46,
   "metadata": {},
   "outputs": [
    {
     "name": "stdout",
     "output_type": "stream",
     "text": [
      "C10 best: 0.539 std: 0.057, using {'clf__C': 0.01, 'vect__max_features': 2000, 'vect__ngram_range': (1, 1)}\n",
      "C14 best: 0.782 std: 0.080, using {'clf__C': 0.1, 'vect__max_features': 2000, 'vect__ngram_range': (1, 1)}\n",
      "C23 best: 0.523 std: 0.030, using {'clf__C': 0.1, 'vect__max_features': 2000, 'vect__ngram_range': (1, 1)}\n",
      "C04 best: 0.777 std: 0.049, using {'clf__C': 0.01, 'vect__max_features': 2000, 'vect__ngram_range': (1, 1)}\n",
      "C12 best: 0.629 std: 0.085, using {'clf__C': 0.01, 'vect__max_features': 2000, 'vect__ngram_range': (1, 1)}\n"
     ]
    }
   ],
   "source": [
    "seed = 123\n",
    "k = 10\n",
    "\n",
    "def get_data(predicate, df):\n",
    "    X_pos = df.loc[df[predicate] == 1]['tokens'].values\n",
    "    pos_num = len(X_pos)\n",
    "#     X_neg = df.loc[df[predicate] == 0]['tokens'].values[:pos_num] # balanced data\n",
    "    X_neg = df.loc[df[predicate] == 0]['tokens'].values # imbalanced data\n",
    "    neg_num = len(X_neg)\n",
    "    X = np.append(X_pos, X_neg)\n",
    "    y = np.append(np.ones(pos_num), np.zeros(neg_num))    \n",
    "    return X, y\n",
    "\n",
    "\n",
    "pipeline  = Pipeline([\n",
    "    ('vect', CountVectorizer(lowercase=False)),\n",
    "    ('tfidf', TfidfTransformer()),\n",
    "    ('clf', LinearSVC(class_weight='balanced', random_state=seed))\n",
    "])\n",
    "\n",
    "param_grid = {\n",
    "    'vect__max_features': [2000],\n",
    "    'vect__ngram_range': [(1, 1)],\n",
    "    'clf__C': [0.01, 0.1, 1]\n",
    "}\n",
    "\n",
    "predicate_list = ['C10', 'C14', 'C23', 'C04', 'C12']\n",
    "score_list = []\n",
    "std_list = []\n",
    "\n",
    "for predicate, df in zip(predicate_list, [df1, df2, df2, df3, df3]):\n",
    "    X_train, y_train = get_data(predicate, df)\n",
    "    grid = GridSearchCV(pipeline, cv=k, param_grid=param_grid, scoring='f1', n_jobs=-1)\n",
    "    grid.fit(X_train, y_train)\n",
    "\n",
    "    score_mean = grid.cv_results_['mean_test_score'][grid.best_index_]\n",
    "    score_list.append(score_mean)\n",
    "    score_std = grid.cv_results_['std_test_score'][grid.best_index_]\n",
    "    std_list.append(score_std)\n",
    "\n",
    "    print('{} best: {:1.3f} std: {:1.3f}, using {}'.format(predicate, score_mean, score_std, grid.best_params_))"
   ]
  },
  {
   "cell_type": "markdown",
   "metadata": {},
   "source": [
    "## NNet (3 Layers with drop out)"
   ]
  },
  {
   "cell_type": "code",
   "execution_count": null,
   "metadata": {
    "scrolled": false
   },
   "outputs": [],
   "source": [
    "import numpy as np\n",
    "import pandas as pd\n",
    "from sklearn.pipeline import Pipeline\n",
    "from sklearn.preprocessing import StandardScaler\n",
    "from sklearn.model_selection import StratifiedKFold\n",
    "from sklearn.metrics import precision_recall_fscore_support\n",
    "from sklearn.feature_extraction.text import TfidfVectorizer\n",
    "\n",
    "from keras.layers import Dense, Dropout\n",
    "from keras.models import Sequential\n",
    "from keras.wrappers.scikit_learn import KerasRegressor\n",
    "\n",
    "def get_data(predicate, df):\n",
    "    X_pos = df.loc[df[predicate] == 1]['tokens'].values\n",
    "    pos_num = len(X_pos)\n",
    "#     X_neg = df.loc[df[predicate] == 0]['tokens'].values[:pos_num] # balanced data\n",
    "    X_neg = df.loc[df[predicate] == 0]['tokens'].values # imbalanced data\n",
    "    neg_num = len(X_neg)\n",
    "    X = np.append(X_pos, X_neg)\n",
    "    y = np.append(np.ones(pos_num), np.zeros(neg_num))\n",
    "    return X, y\n",
    "\n",
    "\n",
    "def create_model(optimizer='adagrad',\n",
    "                     kernel_initializer='glorot_uniform',\n",
    "                     dropout=0.2):\n",
    "        model = Sequential()\n",
    "        model.add(Dense(64, activation='relu', kernel_initializer=kernel_initializer))\n",
    "        model.add(Dropout(dropout))\n",
    "        model.add(Dense(32, activation='relu', kernel_initializer=kernel_initializer))\n",
    "        model.add(Dropout(dropout))\n",
    "        model.add(Dense(32, activation='relu', kernel_initializer=kernel_initializer))\n",
    "        model.add(Dense(1, activation='sigmoid', kernel_initializer=kernel_initializer))\n",
    "\n",
    "        model.compile(loss='binary_crossentropy', optimizer=optimizer)\n",
    "        return model\n",
    "        \n",
    "score_list2 = []\n",
    "std_list2 = []\n",
    "predicate_list = ['C10', 'C14', 'C23', 'C04', 'C12']\n",
    "for predicate, df in zip(predicate_list, [df1, df2, df2, df3, df3]):\n",
    "    X_, y_ = get_data(predicate, df)\n",
    "    vectorizer = TfidfVectorizer(lowercase=False, max_features=2000, ngram_range=(1,1))\n",
    "    X_ = vectorizer.fit_transform(X_).toarray()\n",
    "\n",
    "    scaler = StandardScaler()\n",
    "    clf = KerasRegressor(build_fn=create_model,  verbose=3, batch_size=64, epochs=15)\n",
    "    pipeline = Pipeline([\n",
    "        ('preprocess',scaler),\n",
    "        ('clf', clf)\n",
    "    ])\n",
    "\n",
    "    k = 10\n",
    "    skf = StratifiedKFold(n_splits=k, random_state=123)\n",
    "    pre, rec, f1 = [], [], []\n",
    "    for train_index, test_index in skf.split(X_, y_):\n",
    "        print(\"TRAIN:\", train_index, \"TEST:\", test_index)\n",
    "        X_train, X_test = X_[train_index], X_[test_index]\n",
    "        y_train, y_test = y_[train_index], y_[test_index]\n",
    "\n",
    "        model = pipeline.fit(X_train, y_train)\n",
    "        y_prob = model.predict(X_test)\n",
    "        y_classes = [1 if p >= 0.5 else 0 for p in y_prob]\n",
    "        pre_, rec_, f1_, _ = precision_recall_fscore_support(y_test, y_classes, average='binary')\n",
    "        pre.append(pre_)\n",
    "        rec.append(rec_)\n",
    "        f1.append(f1_)\n",
    "\n",
    "    print('precision: {:1.2}, recall: {:1.2}, f1: {:1.2}'.format(np.mean(pre),\n",
    "                                                                 np.mean(rec),\n",
    "                                                                 np.mean(f1)))\n",
    "    score_list2.append(np.mean(f1))\n",
    "    std_list2.append(np.std(f1))\n"
   ]
  },
  {
   "cell_type": "markdown",
   "metadata": {},
   "source": [
    "## Plot F1 score for predicate-based classifiers"
   ]
  },
  {
   "cell_type": "code",
   "execution_count": 76,
   "metadata": {},
   "outputs": [
    {
     "data": {
      "image/png": "[encoded data removed]",
      "text/plain": [
       "<Figure size 612x504 with 1 Axes>"
      ]
     },
     "metadata": {},
     "output_type": "display_data"
    }
   ],
   "source": [
    "%matplotlib inline  \n",
    "import matplotlib.pyplot as plt\n",
    "\n",
    "fig, ax = plt.subplots(figsize=(8.5,7))\n",
    "width = 0.4\n",
    "ind = np.array(range(len(predicate_list)))\n",
    "rects = ax.bar(ind, score_list, width, color='y', yerr=std_list)\n",
    "rects2 = ax.bar(ind+width, score_list2, width, color='g', yerr=std_list)\n",
    "\n",
    "ax.legend((rects[0], rects2[0]), ('LinearSVM', 'basic NNet'))\n",
    "ax.set_xticks(ind + width / 2)\n",
    "ax.set_xticklabels(('C10\\n11% of +','C14\\n18% of +','C23\\n28% of +','C04\\n18% of +','C12\\n7% of +'))\n",
    "ax.set_ylim((0.4, 1.02))\n",
    "ax.set_ylabel('F1 score')\n",
    "ax.set_xlabel('Predicate-based classifiers')\n",
    "ax.set_title('F1 scores for LinearSVM and NNet (3 layers) models on predicates\\n(10-folds CV with Grid search of parameters, unbalanced datasets)')\n",
    "\n",
    "\n",
    "def autolabel(rects, values, errors):\n",
    "    \"\"\"\n",
    "    Attach a text label above each bar displaying its height\n",
    "    \"\"\"\n",
    "    for rect, val, e in zip(rects, values, errors):\n",
    "        height = rect.get_height()\n",
    "        ax.text(rect.get_x() + rect.get_width()/2., 1.01*(height+e),\n",
    "                '{:1.3f}'.format(val),\n",
    "                ha='center', va='bottom')\n",
    "\n",
    "autolabel(rects, score_list, std_list)\n",
    "autolabel(rects2, score_list2, std_list)\n",
    "\n",
    "plt.show()"
   ]
  },
  {
   "cell_type": "code",
   "execution_count": null,
   "metadata": {},
   "outputs": [],
   "source": []
  }
 ],
 "metadata": {
  "kernelspec": {
   "display_name": "Python 3",
   "language": "python",
   "name": "python3"
  },
  "language_info": {
   "codemirror_mode": {
    "name": "ipython",
    "version": 3
   },
   "file_extension": ".py",
   "mimetype": "text/x-python",
   "name": "python",
   "nbconvert_exporter": "python",
   "pygments_lexer": "ipython3",
   "version": "3.6.4"
  }
 },
 "nbformat": 4,
 "nbformat_minor": 2
}
