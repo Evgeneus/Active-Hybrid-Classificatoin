{
 "cells": [
  {
   "cell_type": "markdown",
   "metadata": {},
   "source": [
    "# Predicate-based classifiers\n",
    "Predicate C10: Nervous System Diseases <br>\n",
    "Predicate C14: Cardiovascular Diseases <br>\n",
    "Predicate C23: Pathological Conditions, Signs and Symptoms"
   ]
  },
  {
   "cell_type": "code",
   "execution_count": 1,
   "metadata": {},
   "outputs": [],
   "source": [
    "import pandas as pd\n",
    "import numpy as np\n",
    "\n",
    "from sklearn.feature_extraction.text import CountVectorizer, TfidfTransformer\n",
    "from sklearn.pipeline import Pipeline\n",
    "from sklearn.model_selection import GridSearchCV\n",
    "from sklearn.svm import LinearSVC"
   ]
  },
  {
   "cell_type": "code",
   "execution_count": 2,
   "metadata": {},
   "outputs": [],
   "source": [
    "df1 = pd.read_csv('./data/ohsumed_C10_C23_1grams.csv')\n",
    "df2 = pd.read_csv('./data/ohsumed_C14_C23_1grams.csv')"
   ]
  },
  {
   "cell_type": "code",
   "execution_count": 5,
   "metadata": {},
   "outputs": [
    {
     "name": "stdout",
     "output_type": "stream",
     "text": [
      "C10 best: 0.907 std: 0.054, using {'clf__C': 0.1, 'vect__max_features': 2000, 'vect__ngram_range': (1, 1)}\n",
      "C14 best: 0.932 std: 0.064, using {'clf__C': 0.1, 'vect__max_features': 2000, 'vect__ngram_range': (1, 1)}\n",
      "C23 best: 0.663 std: 0.106, using {'clf__C': 0.1, 'vect__max_features': 2000, 'vect__ngram_range': (1, 1)}\n"
     ]
    }
   ],
   "source": [
    "seed = 123\n",
    "k = 10\n",
    "\n",
    "def get_data(predicate, df):\n",
    "    X_pos = df.loc[df[predicate] == 1]['tokens'].values\n",
    "    pos_num = X_pos.size\n",
    "    X_neg = df.loc[df[predicate] == 0]['tokens'].values[:pos_num]\n",
    "    X = np.append(X_pos, X_neg)\n",
    "    y = np.append(np.ones(pos_num), np.zeros(pos_num))    \n",
    "    return X, y\n",
    "\n",
    "\n",
    "pipeline  = Pipeline([\n",
    "    ('vect', CountVectorizer(lowercase=False)),\n",
    "    ('tfidf', TfidfTransformer()),\n",
    "    ('clf', LinearSVC(random_state=seed))\n",
    "])\n",
    "\n",
    "param_grid = {\n",
    "    'vect__max_features': [2000],\n",
    "    'vect__ngram_range': [(1, 1)],\n",
    "    'clf__C': [0.01, 0.1, 1]\n",
    "}\n",
    "\n",
    "predicate_list = ['C10', 'C14', 'C23']\n",
    "score_list = []\n",
    "std_list = []\n",
    "\n",
    "for predicate, df in zip(predicate_list, [df1, df2, df2]):\n",
    "    X_train, y_train = get_data(predicate, df)\n",
    "    grid = GridSearchCV(pipeline, cv=k, param_grid=param_grid, scoring='f1_micro', n_jobs=-1)\n",
    "    grid.fit(X_train, y_train)\n",
    "\n",
    "    score_mean = grid.cv_results_['mean_test_score'][grid.best_index_]\n",
    "    score_list.append(score_mean)\n",
    "    score_std = grid.cv_results_['std_test_score'][grid.best_index_]\n",
    "    std_list.append(score_std)\n",
    "\n",
    "    print('{} best: {:1.3f} std: {:1.3f}, using {}'.format(predicate, score_mean, score_std, grid.best_params_))"
   ]
  },
  {
   "cell_type": "markdown",
   "metadata": {},
   "source": [
    "### Plot F1 score for predicate-based classifiers"
   ]
  },
  {
   "cell_type": "code",
   "execution_count": 6,
   "metadata": {},
   "outputs": [
    {
     "data": {
      "image/png": "[encoded data removed]",
      "text/plain": [
       "<Figure size 504x432 with 1 Axes>"
      ]
     },
     "metadata": {},
     "output_type": "display_data"
    }
   ],
   "source": [
    "%matplotlib inline  \n",
    "import matplotlib.pyplot as plt\n",
    "\n",
    "fig, ax = plt.subplots(figsize=(7,6))\n",
    "width = 0.35 \n",
    "rects = ax.bar(predicate_list, score_list, width, color='y', yerr=std_list)\n",
    "ax.set_ylim((0.5, 1.02))\n",
    "ax.set_ylabel('F1 score')\n",
    "ax.set_xlabel('Predicate-based classifiers')\n",
    "ax.set_title('F1 scores for LinearSVM models on predicates\\n(10-folds CV with Grid search of parameters, balanced datasets)')\n",
    "\n",
    "def autolabel(rects, values):\n",
    "    \"\"\"\n",
    "    Attach a text label above each bar displaying its height\n",
    "    \"\"\"\n",
    "    for rect, val in zip(rects, values):\n",
    "        height = rect.get_height()\n",
    "        ax.text(rect.get_x() + rect.get_width()/2., 1.07*height,\n",
    "                '{:1.3f}'.format(val),\n",
    "                ha='center', va='bottom')\n",
    "\n",
    "autolabel(rects, score_list)"
   ]
  },
  {
   "cell_type": "code",
   "execution_count": null,
   "metadata": {},
   "outputs": [],
   "source": []
  }
 ],
 "metadata": {
  "kernelspec": {
   "display_name": "Python 3",
   "language": "python",
   "name": "python3"
  },
  "language_info": {
   "codemirror_mode": {
    "name": "ipython",
    "version": 3
   },
   "file_extension": ".py",
   "mimetype": "text/x-python",
   "name": "python",
   "nbconvert_exporter": "python",
   "pygments_lexer": "ipython3",
   "version": "3.6.5"
  }
 },
 "nbformat": 4,
 "nbformat_minor": 2
}
